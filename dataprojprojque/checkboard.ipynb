{
 "cells": [
  {
   "cell_type": "code",
   "execution_count": null,
   "id": "aa3ed08b",
   "metadata": {},
   "outputs": [],
   "source": [
    "import cv2\n",
    "import numpy as np\n",
    "\n",
    "# Set the dimensions of the checkerboard pattern\n",
    "pattern_size = (6, 8)\n",
    "\n",
    "# Prepare object points, like (0,0,0), (1,0,0), ..., (5,7,0)\n",
    "object_points = np.zeros((pattern_size[0] * pattern_size[1], 3), np.float32)\n",
    "object_points[:, :2] = np.mgrid[0:pattern_size[0], 0:pattern_size[1]].T.reshape(-1, 2)\n",
    "\n",
    "# Create arrays to store object points and image points from all images\n",
    "obj_points = []  # 3D points in real world space\n",
    "img_points = []  # 2D points in image plane\n",
    "\n",
    "# Capture video from a camera or load images\n",
    "# Replace '0' with the camera index or provide the path to the images\n",
    "cap = cv2.VideoCapture(0)\n",
    "\n",
    "while True:\n",
    "    # Read the current frame\n",
    "    ret, frame = cap.read()\n",
    "\n",
    "    # Convert the frame to grayscale\n",
    "    gray = cv2.cvtColor(frame, cv2.COLOR_BGR2GRAY)\n",
    "\n",
    "    # Find the chessboard corners\n",
    "    ret, corners = cv2.findChessboardCorners(gray, pattern_size, None)\n",
    "\n",
    "    # If corners are found, add object points and image points\n",
    "    if ret:\n",
    "        obj_points.append(object_points)\n",
    "        img_points.append(corners)\n",
    "\n",
    "        # Draw and display the corners\n",
    "        cv2.drawChessboardCorners(frame, pattern_size, corners, ret)\n",
    "        cv2.imshow('Calibration', frame)\n",
    "\n",
    "    # Break the loop if the 'q' key is pressed\n",
    "    if cv2.waitKey(1) & 0xFF == ord('q'):\n",
    "        break\n",
    "\n",
    "# Release the video capture\n",
    "cap.release()\n",
    "cv2.destroyAllWindows()\n",
    "\n",
    "# Perform camera calibration\n",
    "ret, camera_matrix, distortion_coeffs, _, _ = cv2.calibrateCamera(\n",
    "    obj_points, img_points, gray.shape[::-1], None, None\n",
    ")\n",
    "\n",
    "# Print the calibration results\n",
    "print(\"Camera matrix:\")\n",
    "print(camera_matrix)\n",
    "print(\"\\nDistortion coefficients:\")\n",
    "print(distortion_coeffs)\n"
   ]
  },
  {
   "cell_type": "code",
   "execution_count": null,
   "id": "9e6789ae",
   "metadata": {},
   "outputs": [],
   "source": []
  },
  {
   "cell_type": "code",
   "execution_count": null,
   "id": "f6c06029",
   "metadata": {},
   "outputs": [],
   "source": []
  }
 ],
 "metadata": {
  "kernelspec": {
   "display_name": "Python 3 (ipykernel)",
   "language": "python",
   "name": "python3"
  },
  "language_info": {
   "codemirror_mode": {
    "name": "ipython",
    "version": 3
   },
   "file_extension": ".py",
   "mimetype": "text/x-python",
   "name": "python",
   "nbconvert_exporter": "python",
   "pygments_lexer": "ipython3",
   "version": "3.7.6"
  }
 },
 "nbformat": 4,
 "nbformat_minor": 5
}
